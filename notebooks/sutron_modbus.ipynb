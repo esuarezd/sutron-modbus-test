{
 "cells": [
  {
   "cell_type": "markdown",
   "id": "88dd7754",
   "metadata": {},
   "source": [
    "\n",
    "autor: Edison Suarez\n",
    "este notebook usa ambiente de python virtual, y usa sus dependencias en requirements.txt"
   ]
  },
  {
   "cell_type": "code",
   "execution_count": 1,
   "id": "369f1c6a",
   "metadata": {},
   "outputs": [],
   "source": [
    "# importar las librerias\n",
    "from pymodbus.client import ModbusTcpClient\n",
    "import time\n",
    "import pandas as pd"
   ]
  },
  {
   "cell_type": "markdown",
   "id": "948352e5",
   "metadata": {},
   "source": [
    "coneccion al waveshark"
   ]
  },
  {
   "cell_type": "code",
   "execution_count": 7,
   "id": "6227d583",
   "metadata": {},
   "outputs": [
    {
     "data": {
      "text/plain": [
       "True"
      ]
     },
     "execution_count": 7,
     "metadata": {},
     "output_type": "execute_result"
    }
   ],
   "source": [
    "host = \"157.253.200.187\"\n",
    "port = 4196\n",
    "client = ModbusTcpClient(host, port)\n",
    "client.connect()"
   ]
  },
  {
   "cell_type": "markdown",
   "id": "c7d873b4",
   "metadata": {},
   "source": [
    "leer los registros"
   ]
  },
  {
   "cell_type": "code",
   "execution_count": 8,
   "id": "2679196e",
   "metadata": {},
   "outputs": [],
   "source": [
    "def leer_registro(addr, count=1, unit=1):\n",
    "    result = client.read_holding_registers(addr, count, unit=unit)\n",
    "    if result.isError():\n",
    "        print(f\"Error leyendo reg {addr}\")\n",
    "        return None\n",
    "    else:\n",
    "        print(f\"Registros {addr}-{addr+count-1}: {result.registers}\")\n",
    "        return result.registers"
   ]
  },
  {
   "cell_type": "markdown",
   "id": "bd26a917",
   "metadata": {},
   "source": [
    "leer rango de registros"
   ]
  },
  {
   "cell_type": "code",
   "execution_count": 10,
   "id": "3902cc9c",
   "metadata": {},
   "outputs": [
    {
     "name": "stdout",
     "output_type": "stream",
     "text": [
      "Registros 0-9: [0, 0, 0, 0, 0, 0, 0, 0, 0, 0]\n",
      "Registros 10-19: [0, 0, 0, 0, 0, 0, 0, 0, 0, 0]\n",
      "Registros 20-29: [0, 0, 0, 0, 0, 0, 0, 0, 0, 0]\n",
      "Registros 30-39: [0, 0, 0, 0, 0, 0, 0, 0, 0, 0]\n",
      "Registros 40-49: [0, 0, 0, 0, 0, 0, 0, 0, 0, 0]\n",
      "Registros 50-59: [0, 0, 0, 0, 0, 0, 0, 0, 0, 0]\n",
      "Registros 60-69: [0, 0, 0, 0, 0, 0, 0, 0, 0, 0]\n",
      "Registros 70-79: [0, 0, 0, 0, 0, 0, 0, 0, 0, 0]\n",
      "Registros 80-89: [0, 0, 0, 0, 0, 0, 0, 0, 0, 0]\n",
      "Registros 90-99: [0, 0, 0, 0, 0, 0, 0, 0, 0, 0]\n"
     ]
    }
   ],
   "source": [
    "for reg in range(0, 100, 10):\n",
    "    leer_registro(reg, count=10, unit=2)\n",
    "    time.sleep(0.5)  # espera entre lecturas"
   ]
  }
 ],
 "metadata": {
  "kernelspec": {
   "display_name": ".venv",
   "language": "python",
   "name": "python3"
  },
  "language_info": {
   "codemirror_mode": {
    "name": "ipython",
    "version": 3
   },
   "file_extension": ".py",
   "mimetype": "text/x-python",
   "name": "python",
   "nbconvert_exporter": "python",
   "pygments_lexer": "ipython3",
   "version": "3.12.0"
  }
 },
 "nbformat": 4,
 "nbformat_minor": 5
}
